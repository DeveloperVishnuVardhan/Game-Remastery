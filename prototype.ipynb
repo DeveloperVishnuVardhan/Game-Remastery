{
 "cells": [
  {
   "cell_type": "code",
   "execution_count": 1,
   "metadata": {},
   "outputs": [
    {
     "name": "stderr",
     "output_type": "stream",
     "text": [
      "/var/folders/bd/4sw518sn01v66wgf7s0j_05h0000gn/T/ipykernel_34869/3380011750.py:20: DeprecationWarning: ANTIALIAS is deprecated and will be removed in Pillow 10 (2023-07-01). Use LANCZOS or Resampling.LANCZOS instead.\n",
      "  (720, 720), Image.ANTIALIAS)\n"
     ]
    }
   ],
   "source": [
    "# Visualize some of the results.\n",
    "from PIL import Image\n",
    "import torchvision.transforms.functional as TF\n",
    "import matplotlib.pyplot as plt\n",
    "from models import SRCNN\n",
    "import torch\n",
    "from torchvision import transforms\n",
    "\n",
    "# Load the trained model.\n",
    "model = SRCNN()\n",
    "model.load_state_dict(torch.load(\"Models/Srcnn.pth\"))\n",
    "model.eval()\n",
    "\n",
    "# Load the image that we want to super-resolve.\n",
    "img_path = \"data/DIV2K_valid_HR/DIV2K_valid_HR/0803.png\"\n",
    "image = Image.open(img_path)\n",
    "\n",
    "# Downscale the image and then use bicubic interpolation to upscale.\n",
    "low_res_img = image.resize(\n",
    "            (720, 720), Image.ANTIALIAS)\n",
    "upscaled_img = low_res_img.resize(\n",
    "            (image.width, image.height), Image.BICUBIC)"
   ]
  },
  {
   "cell_type": "code",
   "execution_count": 2,
   "metadata": {},
   "outputs": [],
   "source": [
    "transforms1 = transforms.Compose([\n",
    "    transforms.ToTensor(),\n",
    "    transforms.Resize((1296, 1296)),\n",
    "    # Normalizing using ImageNet stats\n",
    "    # transforms.Normalize(mean=[0.485, 0.456, 0.406], std=[0.229, 0.224, 0.225])\n",
    "])"
   ]
  },
  {
   "cell_type": "code",
   "execution_count": 3,
   "metadata": {},
   "outputs": [
    {
     "name": "stderr",
     "output_type": "stream",
     "text": [
      "/Users/jyothivishnuvardhankolla/anaconda3/envs/env_pytorch/lib/python3.9/site-packages/torchvision/transforms/functional.py:1603: UserWarning: The default value of the antialias parameter of all the resizing transforms (Resize(), RandomResizedCrop(), etc.) will change from None to True in v0.17, in order to be consistent across the PIL and Tensor backends. To suppress this warning, directly pass antialias=True (recommended, future default), antialias=None (current default, which means False for Tensors and True for PIL), or antialias=False (only works on Tensors - PIL will still use antialiasing). This also applies if you are using the inference transforms from the models weights: update the call to weights.transforms(antialias=True).\n",
      "  warnings.warn(\n"
     ]
    }
   ],
   "source": [
    "original_image = transforms1(image)\n",
    "upscaled_img = transforms1(upscaled_img)"
   ]
  },
  {
   "cell_type": "code",
   "execution_count": 4,
   "metadata": {},
   "outputs": [],
   "source": [
    "# Save the original, upscaled images.\n",
    "original_img = TF.to_pil_image(original_image)\n",
    "upscaled_img = TF.to_pil_image(upscaled_img)\n",
    "\n",
    "original_img.save('Predictions/1_original.png')\n",
    "upscaled_img.save('Predictions/1_bicubic.png')"
   ]
  },
  {
   "cell_type": "code",
   "execution_count": 5,
   "metadata": {},
   "outputs": [],
   "source": [
    "transforms2 = transforms.Compose([\n",
    "    transforms.ToTensor(),\n",
    "    transforms.Resize((1296, 1296)),\n",
    "    # Normalizing using ImageNet stats\n",
    "    transforms.Normalize(mean=[0.485, 0.456, 0.406], std=[0.229, 0.224, 0.225])\n",
    "])"
   ]
  },
  {
   "cell_type": "code",
   "execution_count": 7,
   "metadata": {},
   "outputs": [],
   "source": [
    "import torch\n",
    "\n",
    "def denormalize(tensor, mean, std):\n",
    "    \"\"\"\n",
    "    Denormalizes a tensor of images.\n",
    "    \n",
    "    Parameters:\n",
    "        tensor (torch.Tensor): The normalized images tensor\n",
    "        mean (list or tuple): The mean used for normalization\n",
    "        std (list or tuple): The standard deviation used for normalization\n",
    "    \n",
    "    Returns:\n",
    "        torch.Tensor: The denormalized images tensor\n",
    "    \"\"\"\n",
    "    for t, m, s in zip(tensor, mean, std):\n",
    "        t.mul_(s).add_(m)\n",
    "    return tensor"
   ]
  },
  {
   "cell_type": "code",
   "execution_count": 9,
   "metadata": {},
   "outputs": [],
   "source": [
    "# Super-resolute the bi-cubic upscaled image.\n",
    "input_img = transforms2(upscaled_img).unsqueeze(0) # Add the batch dimension.\n",
    "\n",
    "# Super-resolve the image.\n",
    "with torch.no_grad():\n",
    "    output_img = model(input_img)\n",
    "\n",
    "# Convert the output tensor back to pil format.\n",
    "output_img = output_img.squeeze(0) # Remove the batch dimension.\n",
    "denormalized_output_img = denormalize(output_img, mean=[0.485, 0.456, 0.406], std=[0.229, 0.224, 0.225])\n",
    "output_img = TF.to_pil_image(output_img)\n",
    "\n",
    "# Save the output_image.\n",
    "output_img.save('Predictions/SRCNN_upscaled.png')"
   ]
  },
  {
   "cell_type": "code",
   "execution_count": null,
   "metadata": {},
   "outputs": [],
   "source": [
    "import pandas as pd\n",
    "import matplotlib.pyplot as plt\n",
    "import seaborn as sns"
   ]
  }
 ],
 "metadata": {
  "kernelspec": {
   "display_name": "env_pytorch",
   "language": "python",
   "name": "python3"
  },
  "language_info": {
   "codemirror_mode": {
    "name": "ipython",
    "version": 3
   },
   "file_extension": ".py",
   "mimetype": "text/x-python",
   "name": "python",
   "nbconvert_exporter": "python",
   "pygments_lexer": "ipython3",
   "version": "3.9.18"
  },
  "orig_nbformat": 4
 },
 "nbformat": 4,
 "nbformat_minor": 2
}
